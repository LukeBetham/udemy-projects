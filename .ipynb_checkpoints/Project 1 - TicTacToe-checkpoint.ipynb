{
 "cells": [
  {
   "cell_type": "markdown",
   "metadata": {},
   "source": [
    "# TIC-TAC-TOE"
   ]
  },
  {
   "cell_type": "markdown",
   "metadata": {},
   "source": [
    "##### The Setup"
   ]
  },
  {
   "cell_type": "code",
   "execution_count": 23,
   "metadata": {
    "ExecuteTime": {
     "end_time": "2020-03-17T16:47:57.560033Z",
     "start_time": "2020-03-17T16:47:57.554378Z"
    },
    "code_folding": [
     1
    ]
   },
   "outputs": [],
   "source": [
    "from IPython.display import clear_output\n",
    "def display_board(board):\n",
    "    \"\"\"A function which clears, creates and prints board\"\"\"\n",
    "    print(\"     |     |     \\n  \" + board[7] + \"  |  \" + board[8] + \"  |  \" + board[9] + \"  \\n_____|_____|_____\\n     |     |     \\n  \" + board[4] + \"  |  \" + board[5] + \"  |  \" + board[6] + \"   \\n_____|_____|_____\\n     |     |     \\n  \" + board[1] + \"  |  \" + board[2] + \"  |  \" + board[3] + \"  \\n     |     |     \")"
   ]
  },
  {
   "cell_type": "code",
   "execution_count": 24,
   "metadata": {
    "ExecuteTime": {
     "end_time": "2020-03-17T16:47:57.734688Z",
     "start_time": "2020-03-17T16:47:57.729305Z"
    },
    "code_folding": [
     0
    ]
   },
   "outputs": [
    {
     "name": "stdout",
     "output_type": "stream",
     "text": [
      "     |     |     \n",
      "  X  |  O  |  X  \n",
      "_____|_____|_____\n",
      "     |     |     \n",
      "  O  |  X  |  O   \n",
      "_____|_____|_____\n",
      "     |     |     \n",
      "  X  |  O  |  X  \n",
      "     |     |     \n"
     ]
    }
   ],
   "source": [
    "# testing board layout\n",
    "test_board = ['#','X','O','X','O','X','O','X','O','X']\n",
    "display_board(test_board)"
   ]
  },
  {
   "cell_type": "code",
   "execution_count": 25,
   "metadata": {
    "ExecuteTime": {
     "end_time": "2020-03-17T16:47:57.898397Z",
     "start_time": "2020-03-17T16:47:57.893158Z"
    },
    "code_folding": [
     0
    ]
   },
   "outputs": [],
   "source": [
    "def player_input():\n",
    "    \"\"\"A function which allows player to decide whether to be X or O\"\"\"\n",
    "    \n",
    "    player1 = \"\"\n",
    "    while (player1 != \"X\" and player1 != \"O\"):\n",
    "        player1 = input(\"Player 1, Do you want to be X or O? \").upper()\n",
    "        if (player1 != \"X\" and player1 != \"O\"):\n",
    "            print(\"You didnt select X or O you silly billy, please try again.\")\n",
    "        \n",
    "    if player1 == 'X':\n",
    "        return('X','O')\n",
    "    else:\n",
    "        return('O','X')  "
   ]
  },
  {
   "cell_type": "code",
   "execution_count": 26,
   "metadata": {
    "ExecuteTime": {
     "end_time": "2020-03-17T16:47:58.064070Z",
     "start_time": "2020-03-17T16:47:58.060182Z"
    },
    "code_folding": [
     0
    ]
   },
   "outputs": [],
   "source": [
    "def place_marker(board, marker, position):\n",
    "    \"\"\"A function which allows player to place marker\"\"\"\n",
    "    board[position] = marker   "
   ]
  },
  {
   "cell_type": "code",
   "execution_count": 27,
   "metadata": {
    "ExecuteTime": {
     "end_time": "2020-03-17T16:47:58.239652Z",
     "start_time": "2020-03-17T16:47:58.228430Z"
    },
    "code_folding": [
     0
    ]
   },
   "outputs": [],
   "source": [
    "def win_check(board, mark):\n",
    "    \"\"\"Checks if marker has won\"\"\"\n",
    "    return((board[7]==mark and board[8]==mark and board[9]==mark) or #across the top\n",
    "    (board[4]==mark and board[5]==mark and board[6]==mark) or #across the mid\n",
    "    (board[1]==mark and board[2]==mark and board[3]==mark) or #across the bottom\n",
    "    (board[1]==mark and board[4]==mark and board[7]==mark) or #down the left\n",
    "    (board[2]==mark and board[5]==mark and board[8]==mark) or #down the mid\n",
    "    (board[3]==mark and board[6]==mark and board[9]==mark) or #down the right\n",
    "    (board[1]==mark and board[5]==mark and board[9]==mark) or #diagonal down\n",
    "    (board[7]==mark and board[5]==mark and board[3]==mark)) #diagonal up"
   ]
  },
  {
   "cell_type": "code",
   "execution_count": 28,
   "metadata": {
    "ExecuteTime": {
     "end_time": "2020-03-17T16:47:58.397784Z",
     "start_time": "2020-03-17T16:47:58.393370Z"
    },
    "code_folding": [
     1
    ]
   },
   "outputs": [],
   "source": [
    "import random\n",
    "def choose_first():\n",
    "    \"\"\"A function randomly chooses a player to go first\"\"\"\n",
    "    if random.randint(1,2) == 2:\n",
    "        return 'Player 1'\n",
    "    else:\n",
    "        return 'Player 2'    "
   ]
  },
  {
   "cell_type": "code",
   "execution_count": 29,
   "metadata": {
    "ExecuteTime": {
     "end_time": "2020-03-17T16:47:58.581896Z",
     "start_time": "2020-03-17T16:47:58.577868Z"
    },
    "code_folding": [
     0
    ]
   },
   "outputs": [],
   "source": [
    "def space_check(board, player_move):\n",
    "    \"\"\"A function which checks whether space is already taken\"\"\"\n",
    "    return board[player_move] == ' '  "
   ]
  },
  {
   "cell_type": "code",
   "execution_count": 30,
   "metadata": {
    "ExecuteTime": {
     "end_time": "2020-03-17T16:47:58.763058Z",
     "start_time": "2020-03-17T16:47:58.757159Z"
    },
    "code_folding": [
     0
    ]
   },
   "outputs": [],
   "source": [
    "def full_board_check(board):\n",
    "    \"\"\"A function which checks whether board is full\"\"\"\n",
    "    for i in range(1,10):\n",
    "        if space_check(board, i):\n",
    "            return False\n",
    "    return True"
   ]
  },
  {
   "cell_type": "code",
   "execution_count": 39,
   "metadata": {
    "ExecuteTime": {
     "end_time": "2020-03-17T16:52:46.462987Z",
     "start_time": "2020-03-17T16:52:46.456452Z"
    },
    "code_folding": [
     0
    ]
   },
   "outputs": [],
   "source": [
    "def player_choice(board):\n",
    "    \"\"\"Allows player to choose board placement and checks if allowed\"\"\"\n",
    "    player_move = input(\"Where would you like to place your next piece? (choose 1-9 where 1 is bottom left and 9 is top right)\")\n",
    "    \n",
    "    while player_move not in ['1','2','3','4','5','6','7','8','9']:\n",
    "        print('That is not a valid number you naughty nelly, please select 1-9.')\n",
    "        player_move = input(\"Where would you like to place your next piece? (choose 1-9 where 1 is bottom left and 9 is top right)\")\n",
    "    \n",
    "    player_move_int = int(player_move)\n",
    "    \n",
    "    while space_check(board, player_move_int) == False:\n",
    "        print('That space already has a marker silly billy, please try again.')\n",
    "        player_move_int = int(input(\"Where would you like to place your next piece? (choose 1-9 where 1 is bottom left and 9 is top right)\"))\n",
    "\n",
    "    return player_move_int    "
   ]
  },
  {
   "cell_type": "code",
   "execution_count": 40,
   "metadata": {
    "ExecuteTime": {
     "end_time": "2020-03-17T16:52:46.676336Z",
     "start_time": "2020-03-17T16:52:46.670022Z"
    },
    "code_folding": [
     0
    ]
   },
   "outputs": [],
   "source": [
    "def replay():\n",
    "    \"\"\"Checks if player wants to play again\"\"\"\n",
    "    return input('Do you want to play again? Enter Yes or No: ').lower().startswith('y')"
   ]
  },
  {
   "cell_type": "code",
   "execution_count": 42,
   "metadata": {
    "ExecuteTime": {
     "end_time": "2020-03-17T16:55:58.547744Z",
     "start_time": "2020-03-17T16:55:58.533357Z"
    },
    "code_folding": [
     0
    ]
   },
   "outputs": [],
   "source": [
    "def play_tic_tac_toe():\n",
    "    \"\"\"A funtion which allows you to play tic-tac-toe\"\"\"\n",
    "    print('Welcome to Tic Tac Toe!')\n",
    "    while True:\n",
    "        boardyman = [' '] * 10\n",
    "        player1_marker, player2_marker = player_input()\n",
    "        player_turn = choose_first()\n",
    "        print(player_turn + ' has been randomly selected to go first!')\n",
    "\n",
    "        game_on = True\n",
    "        while game_on:\n",
    "            if player_turn == \"Player 1\":\n",
    "\n",
    "                print(\"Player 1:\")\n",
    "                display_board(boardyman)\n",
    "                position = player_choice(boardyman)\n",
    "                place_marker(boardyman, player1_marker, position)\n",
    "                clear_output()\n",
    "\n",
    "                if win_check(boardyman, player1_marker):\n",
    "                    display_board(boardyman)\n",
    "                    print(\"Nicely done Player 1, you have won the game!\")\n",
    "                    game_on = False\n",
    "                else:\n",
    "                    if full_board_check(boardyman):\n",
    "                        display_board(boardyman)\n",
    "                        print(\"The game is a tie!\")\n",
    "                        game_on = False\n",
    "                    else:\n",
    "                        player_turn = \"Player 2\"\n",
    "\n",
    "            else:\n",
    "                print(\"Player 2\")\n",
    "                display_board(boardyman)\n",
    "                position = player_choice(boardyman)\n",
    "                place_marker(boardyman, player2_marker, position)\n",
    "                clear_output()\n",
    "\n",
    "                if win_check(boardyman, player2_marker):\n",
    "                    display_board(boardyman)\n",
    "                    print(\"Nicely done Player 2, you have won the game!\")\n",
    "                    game_on = False\n",
    "                else:\n",
    "                    if full_board_check(boardyman):\n",
    "                        display_board(boardyman)\n",
    "                        print(\"The game is a tie!\")\n",
    "                        game_on = False\n",
    "                    else:\n",
    "                        player_turn = \"Player 1\"\n",
    "\n",
    "        if not replay():\n",
    "            break"
   ]
  },
  {
   "cell_type": "markdown",
   "metadata": {},
   "source": [
    "#### The Game"
   ]
  },
  {
   "cell_type": "code",
   "execution_count": 44,
   "metadata": {
    "ExecuteTime": {
     "end_time": "2020-03-17T16:57:38.536813Z",
     "start_time": "2020-03-17T16:57:38.533363Z"
    }
   },
   "outputs": [],
   "source": [
    "play_tic_tac_toe()"
   ]
  },
  {
   "cell_type": "code",
   "execution_count": null,
   "metadata": {},
   "outputs": [],
   "source": []
  }
 ],
 "metadata": {
  "kernelspec": {
   "display_name": "Python 3",
   "language": "python",
   "name": "python3"
  },
  "language_info": {
   "codemirror_mode": {
    "name": "ipython",
    "version": 3
   },
   "file_extension": ".py",
   "mimetype": "text/x-python",
   "name": "python",
   "nbconvert_exporter": "python",
   "pygments_lexer": "ipython3",
   "version": "3.7.1"
  },
  "toc": {
   "base_numbering": 1,
   "nav_menu": {},
   "number_sections": true,
   "sideBar": true,
   "skip_h1_title": false,
   "title_cell": "Table of Contents",
   "title_sidebar": "Contents",
   "toc_cell": false,
   "toc_position": {},
   "toc_section_display": true,
   "toc_window_display": false
  },
  "varInspector": {
   "cols": {
    "lenName": 16,
    "lenType": 16,
    "lenVar": 40
   },
   "kernels_config": {
    "python": {
     "delete_cmd_postfix": "",
     "delete_cmd_prefix": "del ",
     "library": "var_list.py",
     "varRefreshCmd": "print(var_dic_list())"
    },
    "r": {
     "delete_cmd_postfix": ") ",
     "delete_cmd_prefix": "rm(",
     "library": "var_list.r",
     "varRefreshCmd": "cat(var_dic_list()) "
    }
   },
   "types_to_exclude": [
    "module",
    "function",
    "builtin_function_or_method",
    "instance",
    "_Feature"
   ],
   "window_display": false
  }
 },
 "nbformat": 4,
 "nbformat_minor": 1
}

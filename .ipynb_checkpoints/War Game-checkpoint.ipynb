{
 "cells": [
  {
   "cell_type": "code",
   "execution_count": 9,
   "metadata": {
    "ExecuteTime": {
     "end_time": "2020-07-13T10:55:17.392843Z",
     "start_time": "2020-07-13T10:55:17.387291Z"
    }
   },
   "outputs": [],
   "source": [
    "import random\n",
    "suits = ('Hearts', 'Diamonds', 'Spades', 'Clubs')\n",
    "ranks = ('Two', \"Three\", \"Four\", \"Five\", \"Six\", \"Seven\", \n",
    "         \"Eight\", \"Nine\", \"Ten\", \"Jack\", \"Queen\", \"King\", \"Ace\")\n",
    "values = {'Two':2, \"Three\": 3, \"Four\": 4, \"Five\": 5, \"Six\": 6,\n",
    "          \"Seven\": 7, \"Eight\": 8, \"Nine\": 9, \"Ten\": 10, \"Jack\": 11,\n",
    "         \"Queen\": 12, \"King\": 13, \"Ace\": 14}\n",
    "\n"
   ]
  },
  {
   "cell_type": "code",
   "execution_count": 10,
   "metadata": {
    "ExecuteTime": {
     "end_time": "2020-07-13T10:55:17.808449Z",
     "start_time": "2020-07-13T10:55:17.804534Z"
    }
   },
   "outputs": [],
   "source": [
    "class Card:\n",
    "    \n",
    "    def __init__(self,suit,rank):\n",
    "        self.suit = suit\n",
    "        self.rank = rank\n",
    "        self.value = values[rank]\n",
    "        \n",
    "    def __str__(self):\n",
    "        return self.rank + \" of \" + self.suit"
   ]
  },
  {
   "cell_type": "code",
   "execution_count": 18,
   "metadata": {
    "ExecuteTime": {
     "end_time": "2020-07-13T10:57:41.707249Z",
     "start_time": "2020-07-13T10:57:41.657089Z"
    }
   },
   "outputs": [],
   "source": [
    "class Deck:\n",
    "    \n",
    "    def __init__(self):\n",
    "        self.all_cards = []\n",
    "        for suit in suits:\n",
    "            for rank in ranks:\n",
    "                created_card = Card(suit,rank)\n",
    "                self.all_cards.append(created_card)\n",
    "        self.shuffle_deck()\n",
    "                \n",
    "    def shuffle_deck(self):\n",
    "        random.shuffle(self.all_cards)\n",
    "        \n",
    "    def deal_one_card(self):\n",
    "        return self.all_cards.pop()\n"
   ]
  },
  {
   "cell_type": "code",
   "execution_count": 32,
   "metadata": {
    "ExecuteTime": {
     "end_time": "2020-07-13T14:46:11.223695Z",
     "start_time": "2020-07-13T14:46:11.212805Z"
    }
   },
   "outputs": [],
   "source": [
    "class Player:\n",
    "    \n",
    "    def __init__(self,name):\n",
    "        self.name = name\n",
    "        self.hand = []\n",
    "        \n",
    "    def remove_one(self):\n",
    "        return self.hand.pop(0)\n",
    "    \n",
    "    def add_cards(self,new_cards):\n",
    "        if type(new_cards) == type([]):\n",
    "            #List of cards\n",
    "            self.hand.extend(new_cards)\n",
    "        else:\n",
    "            #Single card\n",
    "            self.hand.append(new_cards)\n",
    "        \n",
    "    def __str__(self):\n",
    "        return self.name\n",
    "        "
   ]
  },
  {
   "cell_type": "code",
   "execution_count": 33,
   "metadata": {
    "ExecuteTime": {
     "end_time": "2020-07-13T14:46:12.805784Z",
     "start_time": "2020-07-13T14:46:12.797478Z"
    }
   },
   "outputs": [],
   "source": [
    "player1 = Player(\"Bertrand\")"
   ]
  },
  {
   "cell_type": "code",
   "execution_count": 34,
   "metadata": {
    "ExecuteTime": {
     "end_time": "2020-07-13T14:46:13.159566Z",
     "start_time": "2020-07-13T14:46:13.153981Z"
    }
   },
   "outputs": [
    {
     "name": "stdout",
     "output_type": "stream",
     "text": [
      "Bertrand\n"
     ]
    }
   ],
   "source": [
    "print(player1)"
   ]
  },
  {
   "cell_type": "code",
   "execution_count": 42,
   "metadata": {
    "ExecuteTime": {
     "end_time": "2020-07-13T14:52:11.057769Z",
     "start_time": "2020-07-13T14:52:11.052491Z"
    }
   },
   "outputs": [],
   "source": [
    "# Game Setup\n",
    "player1 = Player('One')\n",
    "player2 = Player('Two')\n",
    "new_deck = Deck()\n",
    "\n",
    "for x in range(26):\n",
    "    player1.add_cards(new_deck.deal_one_card())\n",
    "    player2.add_cards(new_deck.deal_one_card())\n",
    "    \n",
    "game_on = True"
   ]
  },
  {
   "cell_type": "code",
   "execution_count": 43,
   "metadata": {
    "ExecuteTime": {
     "end_time": "2020-07-13T14:52:11.899989Z",
     "start_time": "2020-07-13T14:52:11.886157Z"
    }
   },
   "outputs": [
    {
     "name": "stdout",
     "output_type": "stream",
     "text": [
      "Round 1: One has 26 and Two has 26 cards remaining.\n",
      "Player One wins with Eight beating Seven.\n",
      "Round 2: One has 27 and Two has 25 cards remaining.\n",
      "Player Two wins with Eight beating Two.\n",
      "Round 3: One has 26 and Two has 26 cards remaining.\n",
      "Player One wins with Nine beating Five.\n",
      "Round 4: One has 27 and Two has 25 cards remaining.\n",
      "Player Two wins with Jack beating Three.\n",
      "Round 5: One has 26 and Two has 26 cards remaining.\n",
      "Player One wins with King beating Jack.\n",
      "Round 6: One has 27 and Two has 25 cards remaining.\n",
      "Player Two wins with Queen beating Nine.\n",
      "Round 7: One has 26 and Two has 26 cards remaining.\n",
      "Player One wins with Ten beating Six.\n",
      "Round 8: One has 27 and Two has 25 cards remaining.\n",
      "Player Two wins with King beating Queen.\n",
      "Round 9: One has 26 and Two has 26 cards remaining.\n",
      "Player Two wins with King beating Five.\n",
      "Round 10: One has 25 and Two has 27 cards remaining.\n",
      "Player Two wins with Ten beating Eight.\n",
      "Round 11: One has 24 and Two has 28 cards remaining.\n",
      "Player One wins with Queen beating Six.\n",
      "Round 12: One has 25 and Two has 27 cards remaining.\n",
      "Player Two wins with Three beating Two.\n",
      "Round 13: One has 24 and Two has 28 cards remaining.\n",
      "Player Two wins with Ace beating Three.\n",
      "Round 14: One has 23 and Two has 29 cards remaining.\n",
      "Player One wins with Nine beating Four.\n",
      "Round 15: One has 24 and Two has 28 cards remaining.\n",
      "Player Two wins with Five beating Two.\n",
      "Round 16: One has 23 and Two has 29 cards remaining.\n",
      "Player One wins with Seven beating Six.\n",
      "Round 17: One has 24 and Two has 28 cards remaining.\n",
      "Player One wins with Ace beating Seven.\n",
      "Round 18: One has 25 and Two has 27 cards remaining.\n",
      "Player Two wins with Jack beating Ten.\n",
      "Round 19: One has 24 and Two has 28 cards remaining.\n",
      "Player Two wins with Queen beating Nine.\n",
      "Round 20: One has 23 and Two has 29 cards remaining.\n",
      "Player Two wins with King beating Four.\n",
      "Round 21: One has 22 and Two has 30 cards remaining.\n",
      "Player One wins with Ace beating Four.\n",
      "Round 22: One has 23 and Two has 29 cards remaining.\n",
      "Player One wins with Four beating Two.\n",
      "Round 23: One has 24 and Two has 28 cards remaining.\n",
      "Player Two wins with Jack beating Seven.\n",
      "Round 24: One has 23 and Two has 29 cards remaining.\n",
      "Player One wins with Ace beating Ten.\n",
      "Round 25: One has 24 and Two has 28 cards remaining.\n",
      "Player Two wins with Five beating Three.\n",
      "Round 26: One has 23 and Two has 29 cards remaining.\n",
      "Player One wins with Eight beating Six.\n",
      "Round 27: One has 24 and Two has 28 cards remaining.\n",
      "Player One wins with Eight beating Two.\n",
      "Round 28: One has 25 and Two has 27 cards remaining.\n",
      "Player Two wins with Eight beating Seven.\n",
      "Round 29: One has 24 and Two has 28 cards remaining.\n",
      "Player One wins with Nine beating Three.\n",
      "Round 30: One has 25 and Two has 27 cards remaining.\n",
      "Player Two wins with Jack beating Five.\n",
      "Round 31: One has 24 and Two has 28 cards remaining.\n",
      "Player One wins with King beating Nine.\n",
      "Round 32: One has 25 and Two has 27 cards remaining.\n",
      "Player Two wins with Queen beating Jack.\n",
      "Round 33: One has 24 and Two has 28 cards remaining.\n",
      "Player Two wins with Queen beating Ten.\n",
      "Round 34: One has 23 and Two has 29 cards remaining.\n",
      "Player Two wins with King beating Six.\n",
      "Round 35: One has 22 and Two has 30 cards remaining.\n",
      "Player One wins with Queen beating Five.\n",
      "Round 36: One has 23 and Two has 29 cards remaining.\n",
      "Player Two wins with King beating Six.\n",
      "Round 37: One has 22 and Two has 30 cards remaining.\n",
      "Player One wins with Nine beating Eight.\n",
      "Round 38: One has 23 and Two has 29 cards remaining.\n",
      "Player Two wins with Ten beating Four.\n",
      "Round 39: One has 22 and Two has 30 cards remaining.\n",
      "Player One wins with Seven beating Two.\n",
      "Round 40: One has 23 and Two has 29 cards remaining.\n",
      "Player One wins with Six beating Three.\n",
      "Round 41: One has 24 and Two has 28 cards remaining.\n",
      "Player One wins with Ace beating Three.\n",
      "Round 42: One has 25 and Two has 27 cards remaining.\n",
      "Player Two wins with Ace beating Seven.\n",
      "Round 43: One has 24 and Two has 28 cards remaining.\n",
      "Player One wins with Ace beating Two.\n",
      "Round 44: One has 25 and Two has 27 cards remaining.\n",
      "Player Two wins with Five beating Four.\n",
      "Round 45: One has 24 and Two has 28 cards remaining.\n",
      "Player Two wins with Ten beating Four.\n",
      "Round 46: One has 23 and Two has 29 cards remaining.\n",
      "Player Two wins with Jack beating Two.\n",
      "Round 47: One has 22 and Two has 30 cards remaining.\n",
      "Player One wins with Ace beating Nine.\n",
      "Round 48: One has 23 and Two has 29 cards remaining.\n",
      "Player Two wins with Queen beating Ten.\n",
      "Round 49: One has 22 and Two has 30 cards remaining.\n",
      "Player One wins with Eight beating Four.\n",
      "Round 50: One has 23 and Two has 29 cards remaining.\n",
      "Player Two wins with King beating Six.\n",
      "Round 51: One has 22 and Two has 30 cards remaining.\n",
      "Player One wins with Eight beating Seven.\n",
      "Round 52: One has 23 and Two has 29 cards remaining.\n",
      "Player Two wins with Jack beating Two.\n",
      "Round 53: One has 22 and Two has 30 cards remaining.\n",
      "Player One wins with Nine beating Three.\n",
      "Round 54: One has 23 and Two has 29 cards remaining.\n",
      "Player Two wins with Five beating Three.\n",
      "Round 55: One has 22 and Two has 30 cards remaining.\n",
      "Player One wins with King beating Seven.\n",
      "Round 56: One has 23 and Two has 29 cards remaining.\n",
      "Player One wins with Nine beating Eight.\n",
      "Round 57: One has 24 and Two has 28 cards remaining.\n",
      "Player One wins with Queen beating Five.\n",
      "Round 58: One has 25 and Two has 27 cards remaining.\n",
      "Player Two wins with Jack beating Five.\n",
      "Round 59: One has 24 and Two has 28 cards remaining.\n",
      "Player Two wins with Jack beating Nine.\n",
      "Round 60: One has 23 and Two has 29 cards remaining.\n",
      "Player Two wins with Queen beating Eight.\n",
      "Round 61: One has 22 and Two has 30 cards remaining.\n",
      "Player Two wins with Ten beating Seven.\n",
      "Round 62: One has 21 and Two has 31 cards remaining.\n",
      "Player Two wins with Queen beating Two.\n",
      "Round 63: One has 20 and Two has 32 cards remaining.\n",
      "Both players have a Six. WAR!\n",
      "Player Two wins with Ace beating Nine.\n",
      "Round 64: One has 12 and Two has 40 cards remaining.\n",
      "Player One wins with Eight beating Four.\n",
      "Round 65: One has 13 and Two has 39 cards remaining.\n",
      "Player Two wins with Five beating Four.\n",
      "Round 66: One has 12 and Two has 40 cards remaining.\n",
      "Player One wins with Eight beating Four.\n",
      "Round 67: One has 13 and Two has 39 cards remaining.\n",
      "Player Two wins with Ten beating Seven.\n",
      "Round 68: One has 12 and Two has 40 cards remaining.\n",
      "Player One wins with Nine beating Two.\n",
      "Round 69: One has 13 and Two has 39 cards remaining.\n",
      "Player Two wins with Jack beating Three.\n",
      "Round 70: One has 12 and Two has 40 cards remaining.\n",
      "Player One wins with King beating Ten.\n",
      "Round 71: One has 13 and Two has 39 cards remaining.\n",
      "Player Two wins with Queen beating Seven.\n",
      "Round 72: One has 12 and Two has 40 cards remaining.\n",
      "Player One wins with Nine beating Six.\n",
      "Round 73: One has 13 and Two has 39 cards remaining.\n",
      "Player Two wins with King beating Eight.\n",
      "Round 74: One has 12 and Two has 40 cards remaining.\n",
      "Player One wins with Queen beating Two.\n",
      "Round 75: One has 13 and Two has 39 cards remaining.\n",
      "Player Two wins with Jack beating Five.\n",
      "Round 76: One has 12 and Two has 40 cards remaining.\n",
      "Player One wins with Eight beating Three.\n",
      "Round 77: One has 13 and Two has 39 cards remaining.\n",
      "Player Two wins with Five beating Four.\n",
      "Round 78: One has 12 and Two has 40 cards remaining.\n",
      "Player One wins with Eight beating Five.\n",
      "Round 79: One has 13 and Two has 39 cards remaining.\n",
      "Player Two wins with Jack beating Four.\n",
      "Round 80: One has 12 and Two has 40 cards remaining.\n",
      "Both players have a Nine. WAR!\n",
      "Player Two wins with Queen beating Two.\n",
      "Round 81: One has 4 and Two has 48 cards remaining.\n",
      "Player One wins with Eight beating Six.\n",
      "Round 82: One has 5 and Two has 47 cards remaining.\n",
      "Both players have a Three. WAR!\n",
      "Player One doesn't have enough cards for War. Player Two wins the game!\n"
     ]
    }
   ],
   "source": [
    "# while game on\n",
    "round_num = 0\n",
    "war_cards = 7\n",
    "\n",
    "while game_on:\n",
    "    round_num += 1\n",
    "    print(f\"Round {round_num}: {player1} has {len(player1.hand)} and {player2} has {len(player2.hand)} cards remaining.\")\n",
    "    \n",
    "    if len(player1.hand) == 0:\n",
    "        print(f'Player {player1} is out of cards. Player {player2} wins!')\n",
    "        game_on = False\n",
    "        break\n",
    "    if len(player2.hand) == 0:\n",
    "        print(f'Player {player2} is out of cards. Player {player1} wins!')\n",
    "        game_on = False\n",
    "        break\n",
    "        \n",
    "    #Play the next round\n",
    "    p1_cards_played= []\n",
    "    p1_cards_played.append(player1.remove_one())\n",
    "    p2_cards_played= []\n",
    "    p2_cards_played.append(player2.remove_one())\n",
    "    \n",
    "    at_war = True\n",
    "    \n",
    "    while at_war:\n",
    "        if p1_cards_played[-1].value > p2_cards_played[-1].value:\n",
    "            print(f\"Player {player1} wins with {p1_cards_played[-1].rank} beating {p2_cards_played[-1].rank}.\")\n",
    "            player1.add_cards(p1_cards_played)\n",
    "            player1.add_cards(p2_cards_played)\n",
    "            at_war=False\n",
    "        elif p1_cards_played[-1].value < p2_cards_played[-1].value:\n",
    "            print(f\"Player {player2} wins with {p2_cards_played[-1].rank} beating {p1_cards_played[-1].rank}.\")\n",
    "            player2.add_cards(p1_cards_played)\n",
    "            player2.add_cards(p2_cards_played)\n",
    "            at_war=False\n",
    "        else:\n",
    "            print(f\"Both players have a {p2_cards_played[-1].rank}. WAR!\")\n",
    "            if len(player1.hand)<war_cards:\n",
    "                print(f\"Player {player1} doesn't have enough cards for War. Player {player2} wins the game!\")\n",
    "                game_on = False\n",
    "                break\n",
    "            elif len(player2.hand)<war_cards:\n",
    "                print(f\"Player {player2} doesn't have enough cards for War. Player {player1} wins the game!\")\n",
    "                game_on = False\n",
    "                break\n",
    "            else:\n",
    "                for num in range(war_cards):\n",
    "                    p1_cards_played.append(player1.remove_one())\n",
    "                    p2_cards_played.append(player2.remove_one())\n",
    "        \n",
    "        \n"
   ]
  },
  {
   "cell_type": "code",
   "execution_count": null,
   "metadata": {},
   "outputs": [],
   "source": []
  }
 ],
 "metadata": {
  "kernelspec": {
   "display_name": "main_python_env",
   "language": "python",
   "name": "main_env"
  },
  "language_info": {
   "codemirror_mode": {
    "name": "ipython",
    "version": 3
   },
   "file_extension": ".py",
   "mimetype": "text/x-python",
   "name": "python",
   "nbconvert_exporter": "python",
   "pygments_lexer": "ipython3",
   "version": "3.8.2"
  },
  "toc": {
   "base_numbering": 1,
   "nav_menu": {},
   "number_sections": true,
   "sideBar": true,
   "skip_h1_title": false,
   "title_cell": "Table of Contents",
   "title_sidebar": "Contents",
   "toc_cell": false,
   "toc_position": {},
   "toc_section_display": true,
   "toc_window_display": false
  },
  "varInspector": {
   "cols": {
    "lenName": 16,
    "lenType": 16,
    "lenVar": 40
   },
   "kernels_config": {
    "python": {
     "delete_cmd_postfix": "",
     "delete_cmd_prefix": "del ",
     "library": "var_list.py",
     "varRefreshCmd": "print(var_dic_list())"
    },
    "r": {
     "delete_cmd_postfix": ") ",
     "delete_cmd_prefix": "rm(",
     "library": "var_list.r",
     "varRefreshCmd": "cat(var_dic_list()) "
    }
   },
   "types_to_exclude": [
    "module",
    "function",
    "builtin_function_or_method",
    "instance",
    "_Feature"
   ],
   "window_display": false
  }
 },
 "nbformat": 4,
 "nbformat_minor": 4
}
